{
  "nbformat": 4,
  "nbformat_minor": 0,
  "metadata": {
    "colab": {
      "provenance": [],
      "authorship_tag": "ABX9TyMjKL1CPEz7LFUrYwTBZV86",
      "include_colab_link": true
    },
    "kernelspec": {
      "name": "python3",
      "display_name": "Python 3"
    },
    "language_info": {
      "name": "python"
    }
  },
  "cells": [
    {
      "cell_type": "markdown",
      "metadata": {
        "id": "view-in-github",
        "colab_type": "text"
      },
      "source": [
        "<a href=\"https://colab.research.google.com/github/ParagWadhai/Audio_Content_Analyzer/blob/main/Git_Parag.ipynb\" target=\"_parent\"><img src=\"https://colab.research.google.com/assets/colab-badge.svg\" alt=\"Open In Colab\"/></a>"
      ]
    },
    {
      "cell_type": "code",
      "execution_count": 14,
      "metadata": {
        "id": "rXQooVt_oOgc"
      },
      "outputs": [],
      "source": [
        "!git config --global user.email \"paragwadhai03@gmail.com\"\n",
        "!git config --global user.name \"Parag Wadhai\"\n"
      ]
    },
    {
      "cell_type": "code",
      "source": [
        "!git clone https://github.com/Technocolabs100/Attrition-Forecast-Analysis-and-Predictions.git"
      ],
      "metadata": {
        "colab": {
          "base_uri": "https://localhost:8080/"
        },
        "id": "Jf5DxrmDomOx",
        "outputId": "9ffd3080-0fe0-4da0-f69e-7f465c85ecd2"
      },
      "execution_count": 2,
      "outputs": [
        {
          "output_type": "stream",
          "name": "stdout",
          "text": [
            "Cloning into 'Attrition-Forecast-Analysis-and-Predictions'...\n",
            "remote: Enumerating objects: 11, done.\u001b[K\n",
            "remote: Counting objects: 100% (11/11), done.\u001b[K\n",
            "remote: Compressing objects: 100% (11/11), done.\u001b[K\n",
            "remote: Total 11 (delta 2), reused 0 (delta 0), pack-reused 0 (from 0)\u001b[K\n",
            "Receiving objects: 100% (11/11), 56.69 KiB | 322.00 KiB/s, done.\n",
            "Resolving deltas: 100% (2/2), done.\n"
          ]
        }
      ]
    },
    {
      "cell_type": "code",
      "source": [
        "%cd /content/Attrition-Forecast-Analysis-and-Predictions"
      ],
      "metadata": {
        "colab": {
          "base_uri": "https://localhost:8080/"
        },
        "id": "XFK7Ir8IorLX",
        "outputId": "0e5b2d2d-6a5e-45f3-a67a-5c308700ff32"
      },
      "execution_count": 5,
      "outputs": [
        {
          "output_type": "stream",
          "name": "stdout",
          "text": [
            "/content/Attrition-Forecast-Analysis-and-Predictions\n"
          ]
        }
      ]
    },
    {
      "cell_type": "code",
      "source": [
        "%ls"
      ],
      "metadata": {
        "colab": {
          "base_uri": "https://localhost:8080/"
        },
        "id": "VY_OGauXo-R-",
        "outputId": "85885579-72c7-41c0-b75f-de08dcdb51f6"
      },
      "execution_count": 6,
      "outputs": [
        {
          "output_type": "stream",
          "name": "stdout",
          "text": [
            "\u001b[0m\u001b[01;34m'Attrition Dataset'\u001b[0m/   LICENSE   README.md\n"
          ]
        }
      ]
    },
    {
      "cell_type": "code",
      "source": [
        "!mv /content/Employee_Attrition_Prediction_by_Parag.ipynb /content/Attrition-Forecast-Analysis-and-Predictions"
      ],
      "metadata": {
        "id": "BLMe5KJzpOYd"
      },
      "execution_count": 8,
      "outputs": []
    },
    {
      "cell_type": "code",
      "source": [
        "!git status"
      ],
      "metadata": {
        "colab": {
          "base_uri": "https://localhost:8080/"
        },
        "id": "pB3vAuWopxlS",
        "outputId": "9ad2a232-430e-4fb4-d4c6-a1fe97c1e392"
      },
      "execution_count": 9,
      "outputs": [
        {
          "output_type": "stream",
          "name": "stdout",
          "text": [
            "On branch main\n",
            "Your branch is up to date with 'origin/main'.\n",
            "\n",
            "Untracked files:\n",
            "  (use \"git add <file>...\" to include in what will be committed)\n",
            "\t\u001b[31mEmployee_Attrition_Prediction_by_Parag.ipynb\u001b[m\n",
            "\n",
            "nothing added to commit but untracked files present (use \"git add\" to track)\n"
          ]
        }
      ]
    },
    {
      "cell_type": "code",
      "source": [
        "!git add --all"
      ],
      "metadata": {
        "id": "_XZgoQpmp5Ao"
      },
      "execution_count": 10,
      "outputs": []
    },
    {
      "cell_type": "code",
      "source": [
        "!git commit -a -m \"Addded Employee Attrition Prediction by Parag\""
      ],
      "metadata": {
        "colab": {
          "base_uri": "https://localhost:8080/"
        },
        "id": "TMYOl9FAqDML",
        "outputId": "5bd92308-c357-4a09-95e5-37fe5ce3b773"
      },
      "execution_count": 11,
      "outputs": [
        {
          "output_type": "stream",
          "name": "stdout",
          "text": [
            "[main 88315e6] Addded Employee Attrition Prediction by Parag\n",
            " 1 file changed, 1421 insertions(+)\n",
            " create mode 100644 Employee_Attrition_Prediction_by_Parag.ipynb\n"
          ]
        }
      ]
    },
    {
      "cell_type": "code",
      "source": [
        "!git remote -v"
      ],
      "metadata": {
        "colab": {
          "base_uri": "https://localhost:8080/"
        },
        "id": "yF_8-RUmqXd6",
        "outputId": "34a000fa-b4cf-45f9-98f7-fab356b06f60"
      },
      "execution_count": 12,
      "outputs": [
        {
          "output_type": "stream",
          "name": "stdout",
          "text": [
            "origin\thttps://github.com/Technocolabs100/Attrition-Forecast-Analysis-and-Predictions.git (fetch)\n",
            "origin\thttps://github.com/Technocolabs100/Attrition-Forecast-Analysis-and-Predictions.git (push)\n"
          ]
        }
      ]
    },
    {
      "cell_type": "code",
      "source": [
        "!git push origin main"
      ],
      "metadata": {
        "colab": {
          "base_uri": "https://localhost:8080/"
        },
        "id": "mWtPeVZdqbjo",
        "outputId": "8f417833-68af-405a-acb0-6d7880c15f9e"
      },
      "execution_count": 15,
      "outputs": [
        {
          "output_type": "stream",
          "name": "stdout",
          "text": [
            "fatal: could not read Username for 'https://github.com': No such device or address\n"
          ]
        }
      ]
    },
    {
      "cell_type": "code",
      "source": [],
      "metadata": {
        "id": "SyylRGhbqlQR"
      },
      "execution_count": null,
      "outputs": []
    }
  ]
}